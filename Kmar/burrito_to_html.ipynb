{
 "cells": [
  {
   "cell_type": "code",
   "execution_count": 1,
   "metadata": {},
   "outputs": [],
   "source": [
    "import pandas as pd\n",
    "import os"
   ]
  },
  {
   "cell_type": "code",
   "execution_count": 2,
   "metadata": {},
   "outputs": [
    {
     "data": {
      "text/html": [
       "<div>\n",
       "<style scoped>\n",
       "    .dataframe tbody tr th:only-of-type {\n",
       "        vertical-align: middle;\n",
       "    }\n",
       "\n",
       "    .dataframe tbody tr th {\n",
       "        vertical-align: top;\n",
       "    }\n",
       "\n",
       "    .dataframe thead th {\n",
       "        text-align: right;\n",
       "    }\n",
       "</style>\n",
       "<table border=\"1\" class=\"dataframe\">\n",
       "  <thead>\n",
       "    <tr style=\"text-align: right;\">\n",
       "      <th></th>\n",
       "      <th>Location</th>\n",
       "      <th>Burrito</th>\n",
       "      <th>Neighborhood</th>\n",
       "      <th>Address</th>\n",
       "      <th>Yelp</th>\n",
       "      <th>Google</th>\n",
       "      <th>Cost</th>\n",
       "      <th>key</th>\n",
       "    </tr>\n",
       "  </thead>\n",
       "  <tbody>\n",
       "    <tr>\n",
       "      <th>0</th>\n",
       "      <td>Albertacos</td>\n",
       "      <td>California</td>\n",
       "      <td>San Marcos</td>\n",
       "      <td>500 W San Marcos Blvd # 103</td>\n",
       "      <td>3.5</td>\n",
       "      <td>3.9</td>\n",
       "      <td>5.70</td>\n",
       "      <td>1</td>\n",
       "    </tr>\n",
       "    <tr>\n",
       "      <th>1</th>\n",
       "      <td>Albertacos</td>\n",
       "      <td>Carne asada</td>\n",
       "      <td>San Marcos</td>\n",
       "      <td>500 W San Marcos Blvd # 103</td>\n",
       "      <td>3.5</td>\n",
       "      <td>3.9</td>\n",
       "      <td>5.25</td>\n",
       "      <td>2</td>\n",
       "    </tr>\n",
       "    <tr>\n",
       "      <th>2</th>\n",
       "      <td>Burros and Fries</td>\n",
       "      <td>California</td>\n",
       "      <td>Clairemont</td>\n",
       "      <td>4705 Clairemont Dr</td>\n",
       "      <td>3.5</td>\n",
       "      <td>4.1</td>\n",
       "      <td>6.89</td>\n",
       "      <td>3</td>\n",
       "    </tr>\n",
       "    <tr>\n",
       "      <th>3</th>\n",
       "      <td>Burros and Fries</td>\n",
       "      <td>Carne asada</td>\n",
       "      <td>Clairemont</td>\n",
       "      <td>4705 Clairemont Dr</td>\n",
       "      <td>3.5</td>\n",
       "      <td>4.1</td>\n",
       "      <td>6.89</td>\n",
       "      <td>4</td>\n",
       "    </tr>\n",
       "    <tr>\n",
       "      <th>4</th>\n",
       "      <td>Burros and Fries</td>\n",
       "      <td>Shrimp california</td>\n",
       "      <td>Clairemont</td>\n",
       "      <td>4705 Clairemont Dr</td>\n",
       "      <td>3.5</td>\n",
       "      <td>4.1</td>\n",
       "      <td>6.99</td>\n",
       "      <td>5</td>\n",
       "    </tr>\n",
       "  </tbody>\n",
       "</table>\n",
       "</div>"
      ],
      "text/plain": [
       "           Location            Burrito Neighborhood  \\\n",
       "0        Albertacos        California    San Marcos   \n",
       "1        Albertacos        Carne asada   San Marcos   \n",
       "2  Burros and Fries         California   Clairemont   \n",
       "3  Burros and Fries        Carne asada   Clairemont   \n",
       "4  Burros and Fries  Shrimp california   Clairemont   \n",
       "\n",
       "                       Address  Yelp  Google  Cost  key  \n",
       "0  500 W San Marcos Blvd # 103   3.5     3.9  5.70    1  \n",
       "1  500 W San Marcos Blvd # 103   3.5     3.9  5.25    2  \n",
       "2           4705 Clairemont Dr   3.5     4.1  6.89    3  \n",
       "3           4705 Clairemont Dr   3.5     4.1  6.89    4  \n",
       "4           4705 Clairemont Dr   3.5     4.1  6.99    5  "
      ]
     },
     "execution_count": 2,
     "metadata": {},
     "output_type": "execute_result"
    }
   ],
   "source": [
    "data = \"../Final_Burrito.csv\"\n",
    "burrito = pd.read_csv(data)\n",
    "burrito.head()"
   ]
  },
  {
   "cell_type": "code",
   "execution_count": 3,
   "metadata": {},
   "outputs": [],
   "source": [
    "burrito.to_html('burrito_table_data.html')"
   ]
  },
  {
   "cell_type": "code",
   "execution_count": null,
   "metadata": {},
   "outputs": [],
   "source": []
  }
 ],
 "metadata": {
  "kernelspec": {
   "display_name": "Python 3.6.10 64-bit ('PythonData': conda)",
   "language": "python",
   "name": "python361064bitpythondatacondae5997a2e410345aaa38bb48a893dd3cc"
  },
  "language_info": {
   "codemirror_mode": {
    "name": "ipython",
    "version": 3
   },
   "file_extension": ".py",
   "mimetype": "text/x-python",
   "name": "python",
   "nbconvert_exporter": "python",
   "pygments_lexer": "ipython3",
   "version": "3.6.10"
  }
 },
 "nbformat": 4,
 "nbformat_minor": 4
}
